{
 "cells": [
  {
   "cell_type": "markdown",
   "metadata": {},
   "source": [
    "# ETL"
   ]
  },
  {
   "cell_type": "code",
   "execution_count": 48,
   "metadata": {},
   "outputs": [],
   "source": [
    "import pandas as pd\n",
    "import ast"
   ]
  },
  {
   "cell_type": "markdown",
   "metadata": {},
   "source": [
    "Cargamos los datos"
   ]
  },
  {
   "cell_type": "code",
   "execution_count": 49,
   "metadata": {},
   "outputs": [
    {
     "name": "stderr",
     "output_type": "stream",
     "text": [
      "C:\\Users\\jaime\\AppData\\Local\\Temp\\ipykernel_8536\\1939930400.py:1: DtypeWarning: Columns (10) have mixed types. Specify dtype option on import or set low_memory=False.\n",
      "  df_movies = pd.read_csv('../Datasets/movies_dataset.csv')\n"
     ]
    }
   ],
   "source": [
    "df_movies = pd.read_csv('../Datasets/movies_dataset.csv')\n",
    "df_credits = pd.read_csv('../Datasets/credits.csv')"
   ]
  },
  {
   "cell_type": "markdown",
   "metadata": {},
   "source": [
    "Creamos las funciones para desanidar"
   ]
  },
  {
   "cell_type": "code",
   "execution_count": 50,
   "metadata": {},
   "outputs": [],
   "source": [
    "def extraer_nombre_dict(columna):\n",
    "    try:\n",
    "        columna = ast.literal_eval(columna)\n",
    "        if isinstance(columna, dict):\n",
    "            return columna.get('name')\n",
    "    except:\n",
    "        return 'NA'\n",
    "    else:\n",
    "        return 'NA'\n",
    "\n",
    "def extraer_nombre_list(columna):\n",
    "    try:\n",
    "        columna = ast.literal_eval(columna)\n",
    "        if isinstance(columna, list):\n",
    "            return [item.get('name') for item in columna if isinstance(item, dict)]\n",
    "    except:\n",
    "        return 'NA'\n",
    "    else:\n",
    "        return 'NA'\n",
    "\n",
    "def extraer_directores(crew_list):\n",
    "    try:\n",
    "        crew_list = ast.literal_eval(crew_list)\n",
    "        return [crew['name'] for crew in crew_list if crew.get('job') == 'Director']\n",
    "    except:\n",
    "        return 'NA'"
   ]
  },
  {
   "cell_type": "markdown",
   "metadata": {},
   "source": [
    "Eliminamos columnas no utilizadas"
   ]
  },
  {
   "cell_type": "code",
   "execution_count": 51,
   "metadata": {},
   "outputs": [],
   "source": [
    "df_movies = df_movies.drop(columns=['video', 'imdb_id', 'adult', 'original_title', 'poster_path', 'homepage'])\n",
    "df_credits = df_credits.drop(columns=['id'])"
   ]
  },
  {
   "cell_type": "markdown",
   "metadata": {},
   "source": [
    "Unimos los dataframes"
   ]
  },
  {
   "cell_type": "code",
   "execution_count": 52,
   "metadata": {},
   "outputs": [],
   "source": [
    "df = df_movies.join(df_credits)"
   ]
  },
  {
   "cell_type": "markdown",
   "metadata": {},
   "source": [
    "Eliminamos registros duplicados"
   ]
  },
  {
   "cell_type": "code",
   "execution_count": 53,
   "metadata": {},
   "outputs": [],
   "source": [
    "df = df.drop_duplicates()"
   ]
  },
  {
   "cell_type": "markdown",
   "metadata": {},
   "source": [
    "Desanidamos columnas"
   ]
  },
  {
   "cell_type": "code",
   "execution_count": 54,
   "metadata": {},
   "outputs": [],
   "source": [
    "df['belongs_to_collection'] = df['belongs_to_collection'].apply(extraer_nombre_dict)\n",
    "df['genres'] = df['genres'].apply(extraer_nombre_list)\n",
    "df['production_companies'] = df['production_companies'].apply(extraer_nombre_list)\n",
    "df['production_countries'] = df['production_countries'].apply(extraer_nombre_list)\n",
    "df['spoken_languages'] = df['spoken_languages'].apply(extraer_nombre_list)\n",
    "df['cast'] = df['cast'].apply(extraer_nombre_list)\n",
    "df['director'] = df['crew'].apply(extraer_directores)"
   ]
  },
  {
   "cell_type": "markdown",
   "metadata": {},
   "source": [
    "Eliminamos datos no utilizados"
   ]
  },
  {
   "cell_type": "code",
   "execution_count": 55,
   "metadata": {},
   "outputs": [],
   "source": [
    "df = df.drop(columns=['crew'])"
   ]
  },
  {
   "cell_type": "markdown",
   "metadata": {},
   "source": [
    "Rellenamos valores nulos"
   ]
  },
  {
   "cell_type": "code",
   "execution_count": 56,
   "metadata": {},
   "outputs": [],
   "source": [
    "df['revenue'] = df['revenue'].fillna(0)\n",
    "df['budget'] = df['budget'].fillna(0)"
   ]
  },
  {
   "cell_type": "markdown",
   "metadata": {},
   "source": [
    "Transformamos columnas"
   ]
  },
  {
   "cell_type": "code",
   "execution_count": 57,
   "metadata": {},
   "outputs": [],
   "source": [
    "df['release_date'] = pd.to_datetime(df['release_date'], format='%Y-%m-%d', errors='coerce')\n",
    "df['budget'] = pd.to_numeric(df['budget'], errors='coerce')\n",
    "df['revenue'] = pd.to_numeric(df['revenue'], errors='coerce')"
   ]
  },
  {
   "cell_type": "markdown",
   "metadata": {},
   "source": [
    "Eliminamos registros con fechas nulas"
   ]
  },
  {
   "cell_type": "code",
   "execution_count": 58,
   "metadata": {},
   "outputs": [],
   "source": [
    "df = df.dropna(subset=['release_date'])"
   ]
  },
  {
   "cell_type": "markdown",
   "metadata": {},
   "source": [
    "Generamos columnas nuevas"
   ]
  },
  {
   "cell_type": "code",
   "execution_count": 59,
   "metadata": {},
   "outputs": [],
   "source": [
    "df['release_year'] = df['release_date'].dt.year\n",
    "df['return'] = df.apply(lambda row: row['revenue'] / row['budget'] if row['budget'] != 0 else 0, axis=1)"
   ]
  },
  {
   "cell_type": "markdown",
   "metadata": {},
   "source": [
    "Recortamos el tamaño del dataframe"
   ]
  },
  {
   "cell_type": "code",
   "execution_count": 60,
   "metadata": {},
   "outputs": [],
   "source": [
    "df = df.head(20000)"
   ]
  },
  {
   "cell_type": "markdown",
   "metadata": {},
   "source": [
    "Guardamos los cambios"
   ]
  },
  {
   "cell_type": "code",
   "execution_count": 61,
   "metadata": {},
   "outputs": [],
   "source": [
    "df.to_csv('../Datasets/movies_dataset_ETL.csv', index=False)"
   ]
  }
 ],
 "metadata": {
  "kernelspec": {
   "display_name": "Python 3",
   "language": "python",
   "name": "python3"
  },
  "language_info": {
   "codemirror_mode": {
    "name": "ipython",
    "version": 3
   },
   "file_extension": ".py",
   "mimetype": "text/x-python",
   "name": "python",
   "nbconvert_exporter": "python",
   "pygments_lexer": "ipython3",
   "version": "3.12.2"
  }
 },
 "nbformat": 4,
 "nbformat_minor": 2
}
